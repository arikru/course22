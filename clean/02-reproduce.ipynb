{
 "cells": [
  {
   "cell_type": "code",
   "execution_count": 1,
   "id": "da8d5f9e-d52c-4556-b602-65e35d34812d",
   "metadata": {},
   "outputs": [],
   "source": [
    "!pip install -Uqq fastai"
   ]
  },
  {
   "cell_type": "code",
   "execution_count": 2,
   "id": "43dc9e0e-97b1-4124-986a-25f8423893fc",
   "metadata": {},
   "outputs": [],
   "source": [
    "from fastai.vision.all import *"
   ]
  },
  {
   "cell_type": "code",
   "execution_count": 12,
   "id": "c1418596-ee3d-4a6b-8437-daecd71a16c9",
   "metadata": {},
   "outputs": [],
   "source": [
    "path = untar_data(URLs.CARS)"
   ]
  },
  {
   "cell_type": "code",
   "execution_count": 15,
   "id": "7eaf6785",
   "metadata": {},
   "outputs": [],
   "source": [
    "path_train = path/'cars_train'\n",
    "path_train = path/'cars_test'"
   ]
  },
  {
   "cell_type": "code",
   "execution_count": 16,
   "id": "74d3e296",
   "metadata": {},
   "outputs": [
    {
     "data": {
      "text/plain": [
       "(#8041) [Path('/root/.fastai/data/stanford-cars/cars_test/01985.jpg'),Path('/root/.fastai/data/stanford-cars/cars_test/07913.jpg'),Path('/root/.fastai/data/stanford-cars/cars_test/07094.jpg'),Path('/root/.fastai/data/stanford-cars/cars_test/01814.jpg'),Path('/root/.fastai/data/stanford-cars/cars_test/02154.jpg'),Path('/root/.fastai/data/stanford-cars/cars_test/04792.jpg'),Path('/root/.fastai/data/stanford-cars/cars_test/00238.jpg'),Path('/root/.fastai/data/stanford-cars/cars_test/06136.jpg'),Path('/root/.fastai/data/stanford-cars/cars_test/05209.jpg'),Path('/root/.fastai/data/stanford-cars/cars_test/01608.jpg')...]"
      ]
     },
     "execution_count": 16,
     "metadata": {},
     "output_type": "execute_result"
    }
   ],
   "source": [
    "path_train.ls()"
   ]
  },
  {
   "cell_type": "code",
   "execution_count": 9,
   "id": "a319b646-2948-47a1-93bb-c3bfcd04ef33",
   "metadata": {},
   "outputs": [],
   "source": [
    "def is_cat(x): return x[0].isupper()"
   ]
  },
  {
   "cell_type": "code",
   "execution_count": 13,
   "id": "b911caec-0ec8-4df1-afdd-8dea6dc46ce0",
   "metadata": {},
   "outputs": [],
   "source": [
    "dls = ImageDataLoaders.from_name_func('.', get_image_files(path), label_func=is_cat, \n",
    "                                      item_tfms=Resize(192))"
   ]
  },
  {
   "cell_type": "code",
   "execution_count": 14,
   "id": "cd9fc434-d2ac-48ce-b255-397b37c2e560",
   "metadata": {},
   "outputs": [
    {
     "data": {
      "application/vnd.jupyter.widget-view+json": {
       "model_id": "d3bfc63af5794c13a08aaebffe3e1593",
       "version_major": 2,
       "version_minor": 0
      },
      "text/plain": [
       "Downloading model.safetensors:   0%|          | 0.00/87.3M [00:00<?, ?B/s]"
      ]
     },
     "metadata": {},
     "output_type": "display_data"
    }
   ],
   "source": [
    "learn = vision_learner(dls, 'resnet34', metrics=error_rate)"
   ]
  },
  {
   "cell_type": "code",
   "execution_count": 15,
   "id": "50373be0-b7e3-499d-b303-dd2cc41d24d1",
   "metadata": {},
   "outputs": [
    {
     "data": {
      "text/html": [
       "\n",
       "<style>\n",
       "    /* Turns off some styling */\n",
       "    progress {\n",
       "        /* gets rid of default border in Firefox and Opera. */\n",
       "        border: none;\n",
       "        /* Needs to be in here for Safari polyfill so background images work as expected. */\n",
       "        background-size: auto;\n",
       "    }\n",
       "    progress:not([value]), progress:not([value])::-webkit-progress-bar {\n",
       "        background: repeating-linear-gradient(45deg, #7e7e7e, #7e7e7e 10px, #5c5c5c 10px, #5c5c5c 20px);\n",
       "    }\n",
       "    .progress-bar-interrupted, .progress-bar-interrupted::-webkit-progress-bar {\n",
       "        background: #F44336;\n",
       "    }\n",
       "</style>\n"
      ],
      "text/plain": [
       "<IPython.core.display.HTML object>"
      ]
     },
     "metadata": {},
     "output_type": "display_data"
    },
    {
     "data": {
      "text/html": [
       "<table border=\"1\" class=\"dataframe\">\n",
       "  <thead>\n",
       "    <tr style=\"text-align: left;\">\n",
       "      <th>epoch</th>\n",
       "      <th>train_loss</th>\n",
       "      <th>valid_loss</th>\n",
       "      <th>error_rate</th>\n",
       "      <th>time</th>\n",
       "    </tr>\n",
       "  </thead>\n",
       "  <tbody>\n",
       "    <tr>\n",
       "      <td>0</td>\n",
       "      <td>0.229221</td>\n",
       "      <td>0.052273</td>\n",
       "      <td>0.020298</td>\n",
       "      <td>00:18</td>\n",
       "    </tr>\n",
       "  </tbody>\n",
       "</table>"
      ],
      "text/plain": [
       "<IPython.core.display.HTML object>"
      ]
     },
     "metadata": {},
     "output_type": "display_data"
    },
    {
     "data": {
      "text/html": [
       "\n",
       "<style>\n",
       "    /* Turns off some styling */\n",
       "    progress {\n",
       "        /* gets rid of default border in Firefox and Opera. */\n",
       "        border: none;\n",
       "        /* Needs to be in here for Safari polyfill so background images work as expected. */\n",
       "        background-size: auto;\n",
       "    }\n",
       "    progress:not([value]), progress:not([value])::-webkit-progress-bar {\n",
       "        background: repeating-linear-gradient(45deg, #7e7e7e, #7e7e7e 10px, #5c5c5c 10px, #5c5c5c 20px);\n",
       "    }\n",
       "    .progress-bar-interrupted, .progress-bar-interrupted::-webkit-progress-bar {\n",
       "        background: #F44336;\n",
       "    }\n",
       "</style>\n"
      ],
      "text/plain": [
       "<IPython.core.display.HTML object>"
      ]
     },
     "metadata": {},
     "output_type": "display_data"
    },
    {
     "data": {
      "text/html": [
       "<table border=\"1\" class=\"dataframe\">\n",
       "  <thead>\n",
       "    <tr style=\"text-align: left;\">\n",
       "      <th>epoch</th>\n",
       "      <th>train_loss</th>\n",
       "      <th>valid_loss</th>\n",
       "      <th>error_rate</th>\n",
       "      <th>time</th>\n",
       "    </tr>\n",
       "  </thead>\n",
       "  <tbody>\n",
       "    <tr>\n",
       "      <td>0</td>\n",
       "      <td>0.093383</td>\n",
       "      <td>0.039974</td>\n",
       "      <td>0.016238</td>\n",
       "      <td>00:22</td>\n",
       "    </tr>\n",
       "    <tr>\n",
       "      <td>1</td>\n",
       "      <td>0.078161</td>\n",
       "      <td>0.040092</td>\n",
       "      <td>0.013532</td>\n",
       "      <td>00:22</td>\n",
       "    </tr>\n",
       "    <tr>\n",
       "      <td>2</td>\n",
       "      <td>0.064935</td>\n",
       "      <td>0.038309</td>\n",
       "      <td>0.012179</td>\n",
       "      <td>00:22</td>\n",
       "    </tr>\n",
       "  </tbody>\n",
       "</table>"
      ],
      "text/plain": [
       "<IPython.core.display.HTML object>"
      ]
     },
     "metadata": {},
     "output_type": "display_data"
    }
   ],
   "source": [
    "learn.fine_tune(3)"
   ]
  },
  {
   "cell_type": "code",
   "execution_count": 16,
   "id": "51dad44e-ae83-4816-af9a-f7d246f692b7",
   "metadata": {},
   "outputs": [],
   "source": [
    "learn.export('model-reproduce.pkl')"
   ]
  }
 ],
 "metadata": {
  "kernelspec": {
   "display_name": "Python 3 (ipykernel)",
   "language": "python",
   "name": "python3"
  },
  "language_info": {
   "codemirror_mode": {
    "name": "ipython",
    "version": 3
   },
   "file_extension": ".py",
   "mimetype": "text/x-python",
   "name": "python",
   "nbconvert_exporter": "python",
   "pygments_lexer": "ipython3",
   "version": "3.9.13"
  }
 },
 "nbformat": 4,
 "nbformat_minor": 5
}
