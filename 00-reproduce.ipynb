{
 "cells": [
  {
   "cell_type": "code",
   "execution_count": 1,
   "id": "707a7393",
   "metadata": {},
   "outputs": [],
   "source": [
    "from fastcore import *"
   ]
  },
  {
   "cell_type": "code",
   "execution_count": null,
   "id": "48f53ffb",
   "metadata": {},
   "outputs": [],
   "source": []
  }
 ],
 "metadata": {
  "kernelspec": {
   "display_name": "Python 3 (ipykernel)",
   "language": "python",
   "name": "python3"
  },
  "language_info": {
   "codemirror_mode": {
    "name": "ipython",
    "version": 3
   },
   "file_extension": ".py",
   "mimetype": "text/x-python",
   "name": "python",
   "nbconvert_exporter": "python",
   "pygments_lexer": "ipython3",
   "version": "3.10.13"
  }
 },
 "nbformat": 4,
 "nbformat_minor": 5
}
